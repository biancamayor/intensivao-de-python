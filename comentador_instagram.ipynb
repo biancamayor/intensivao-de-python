{
 "cells": [
  {
   "cell_type": "code",
   "execution_count": 7,
   "id": "19c0dd39",
   "metadata": {},
   "outputs": [],
   "source": [
    "import pyautogui\n",
    "import pyperclip\n",
    "import time\n",
    "\n",
    "#passo1: entrar no meu instagram\n",
    "pyautogui.hotkey('ctrl','t')\n",
    "pyperclip.copy('https://www.instagram.com/p/BgKd3plHaY4/')\n",
    "pyautogui.hotkey('ctrl','v')\n",
    "pyautogui.press('enter')\n",
    "time.sleep(3)\n"
   ]
  },
  {
   "cell_type": "code",
   "execution_count": 8,
   "id": "63acc7d3",
   "metadata": {},
   "outputs": [],
   "source": [
    "#passo2: clicar na barra de comentário\n",
    "pyautogui.click(x=1371, y=884, clicks = 1)\n",
    "time.sleep(2)\n"
   ]
  },
  {
   "cell_type": "code",
   "execution_count": 9,
   "id": "5515c1ef",
   "metadata": {},
   "outputs": [],
   "source": [
    "#passo3: comentar\n",
    "pyperclip.copy('Oi oi oi')\n",
    "pyautogui.hotkey('ctrl', 'v')\n",
    "pyautogui.press('enter')"
   ]
  }
 ],
 "metadata": {
  "kernelspec": {
   "display_name": "Python 3 (ipykernel)",
   "language": "python",
   "name": "python3"
  },
  "language_info": {
   "codemirror_mode": {
    "name": "ipython",
    "version": 3
   },
   "file_extension": ".py",
   "mimetype": "text/x-python",
   "name": "python",
   "nbconvert_exporter": "python",
   "pygments_lexer": "ipython3",
   "version": "3.9.12"
  }
 },
 "nbformat": 4,
 "nbformat_minor": 5
}
